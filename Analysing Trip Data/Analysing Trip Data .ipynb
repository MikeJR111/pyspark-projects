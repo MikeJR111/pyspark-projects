{
 "cells": [
  {
   "cell_type": "markdown",
   "metadata": {},
   "source": [
    "# FIT5202 Data processing for Big data\n",
    "\n",
    "# Assignment 1: Analysing Trip Data \n",
    "\n",
    "## Table of Contents\n",
    "\n",
    "* [1. Working with RDD](#task1)\n",
    "    * [1.1 Data Preparation and Loading](#task11)\n",
    "    * [1.2 Data Partitioning in RDD](#task12)\n",
    "    * [1.3 Query/Analysis](#task13)\n",
    "* [2. Working with DataFrames](#task2)\n",
    "    * [2.1 Data Preparation and Loading](#task21)\n",
    "    * [2.2 Query/Analysis](#task22)\n",
    "    * [2.3 Trip Analysis](#task23)\n",
    "* [3. RDDs vs DataFrame vs Spark SQL](#task3)\n",
    "\n",
    "By Jiawei Ren;\n",
    "\n",
    "Enviroment: Python 3+ and PySpark 3.0.0 \n",
    "\n",
    "Dataset link: https://www.kaggle.com/datasets/ivanchvez/99littleorange"
   ]
  },
  {
   "cell_type": "markdown",
   "metadata": {},
   "source": [
    "## Part1. Working with RDD  <a class=\"anchor\" id=\"task1\"></a>\n",
    "\n",
    "### 1.1 Data Preparation and Loading <a class=\"anchor\" id=\"task11\"></a>"
   ]
  },
  {
   "cell_type": "code",
   "execution_count": 1,
   "metadata": {},
   "outputs": [],
   "source": [
    "# 1\n",
    "# Import SparkConf, sparkcontext, sparksession class into program\n",
    "from pyspark import SparkConf\n",
    "from pyspark import SparkContext # Spark\n",
    "from pyspark.sql import SparkSession # Spark SQL\n",
    "import pandas as pd\n",
    "# as many working processors as logical cores on your machine\n",
    "master = \"local[*]\"\n",
    "app_name = \"ass1\"\n",
    "spark_conf = SparkConf().setMaster(master).setAppName(app_name)\n",
    "\n",
    "# create a SparkContext object using SparkSession\n",
    "spark = SparkSession.builder.config(conf=spark_conf).getOrCreate()\n",
    "sc = spark.sparkContext\n",
    "sc.setLogLevel('ERROR')\n",
    " "
   ]
  },
  {
   "cell_type": "code",
   "execution_count": 2,
   "metadata": {},
   "outputs": [
    {
     "name": "stdout",
     "output_type": "stream",
     "text": [
      "first 5 passenger_rdd records: \n",
      "00000fab,5/11/2019 8:23:54 PM\n",
      "0000149d,12/24/2018 9:21:33 PM\n",
      "00002b66,9/20/2018 9:08:24 PM\n",
      "00002bc7,7/28/2019 11:27:56 AM\n",
      "0000332e,2/21/2019 11:34:24 PM\n",
      "the total count :\n",
      "1235782\n",
      "first 5 trip_rdd records: \n",
      "a84c0db2,cb64172e,2ea4359d,43006,9/8/2019 10:01:28 PM,9/8/2019 10:15:54 PM,0.3,1.92,4.36\n",
      "a84c2d10,3034e6fe,e1bd0c8d,43006,7/1/2019 8:56:28 PM,7/1/2019 9:22:09 PM,0,9.36,6.91\n",
      "a84c3e75,93fb6802,75e6d450,43050,8/20/2019 9:30:46 PM,8/20/2019 9:46:48 PM,0,4.39,3.48\n",
      "a84c3f6f,25fc9273,5ba48e89,43020,9/8/2019 2:42:41 AM,9/8/2019 2:59:56 AM,0,2.04,1.54\n",
      "a84c5ce2,484c4d0c,fdb2ef59,43006,6/10/2019 9:29:18 AM,6/10/2019 9:55:36 AM,0,7.37,5.83\n",
      "the total count :\n",
      "2318357\n"
     ]
    }
   ],
   "source": [
    "# 2 Import all the “Trip” csv files into a single RDD. \n",
    "trip_rdd = sc.textFile('data//trip.csv')\n",
    "# 3. Import all the “Passenger” csv files into a single RDD. \n",
    "passenger_rdd = sc.textFile('data//passenger.csv')\n",
    "# 4. For both Trip and Passenger, remove the header rows and display the total count\n",
    "# and first 5 records. \n",
    "passenger_header = passenger_rdd.first()\n",
    "trip_header = trip_rdd.first()\n",
    "passenger_rdd = passenger_rdd.filter(lambda row: row != passenger_header) \n",
    "trip_rdd = trip_rdd.filter(lambda row: row != trip_header) \n",
    "print( 'first 5 passenger_rdd records: ', *passenger_rdd.take(5),'the total count :', passenger_rdd.count(),sep='\\n')\n",
    "print( 'first 5 trip_rdd records: ', *trip_rdd.take(5),'the total count :', trip_rdd.count(),sep='\\n')"
   ]
  },
  {
   "cell_type": "markdown",
   "metadata": {},
   "source": [
    "### 1.2 Data Partitioning in RDD <a class=\"anchor\" id=\"task12\"></a>"
   ]
  },
  {
   "cell_type": "code",
   "execution_count": 3,
   "metadata": {},
   "outputs": [
    {
     "name": "stdout",
     "output_type": "stream",
     "text": [
      "trip_rdd has 6  partitions\n",
      "\n",
      "passenger_rdd has 2  partitions\n",
      "\n",
      "By defualt, spark uses random equal partitioning to partition the data\n"
     ]
    }
   ],
   "source": [
    "#1. How many partitions do the above RDDs have? How is the data in these RDDs\n",
    "#   partitioned by default, when we do not explicitly specify any partitioning strategy? \n",
    "\n",
    "trip_rdd_numPartitions = trip_rdd.getNumPartitions()\n",
    "passenger_rdd_numPartitions = passenger_rdd.getNumPartitions()\n",
    "print('trip_rdd has',trip_rdd_numPartitions, ' partitions')\n",
    "print('\\npassenger_rdd has',passenger_rdd_numPartitions, ' partitions')\n",
    "print('\\nBy defualt, spark uses random equal partitioning to partition the data')"
   ]
  },
  {
   "cell_type": "code",
   "execution_count": 4,
   "metadata": {},
   "outputs": [
    {
     "data": {
      "text/plain": [
       "[['In 2019', ['00000fab', '5/11/2019 8:23:54 PM']],\n",
       " ['Not In 2019', ['0000149d', '12/24/2018 9:21:33 PM']],\n",
       " ['Not In 2019', ['00002b66', '9/20/2018 9:08:24 PM']],\n",
       " ['In 2019', ['00002bc7', '7/28/2019 11:27:56 AM']],\n",
       " ['In 2019', ['0000332e', '2/21/2019 11:34:24 PM']]]"
      ]
     },
     "execution_count": 4,
     "metadata": {},
     "output_type": "execute_result"
    }
   ],
   "source": [
    "#2a.  \n",
    "# if else function, if it is in 2019 then 'In 2019' else 'Not In 2019' as the key \n",
    "passenger_rdd_2 = passenger_rdd.map(lambda x: x.split(',')).\\\n",
    "    map(lambda x: ['In 2019' if (pd.to_datetime(x[1]) < pd.to_datetime('2020') and pd.to_datetime('2019') < pd.to_datetime(x[1]))\n",
    "                   else 'Not In 2019', x])\n",
    "#print the first 5 records\n",
    "passenger_rdd_2.take(5)"
   ]
  },
  {
   "cell_type": "code",
   "execution_count": 5,
   "metadata": {},
   "outputs": [],
   "source": [
    "# function for partition \n",
    "#check the key, if it is 'In 2019' then partition 0 otherwise partition 1\n",
    "def by_year_function(key):\n",
    "    if key == 'In 2019':\n",
    "        return 1\n",
    "    else:\n",
    "        return 2"
   ]
  },
  {
   "cell_type": "code",
   "execution_count": 6,
   "metadata": {},
   "outputs": [],
   "source": [
    "#2b keep all the data related to 2019 in one partition and keep\n",
    "#   the other year’s data in another partition.\n",
    "# so we only need two partitions\n",
    "no_of_partitions = 2\n",
    "\n",
    "range_partitioned_rdd = passenger_rdd_2.partitionBy(no_of_partitions, by_year_function)\n",
    "#range_partitioned_rdd.glom().collect()"
   ]
  },
  {
   "cell_type": "markdown",
   "metadata": {},
   "source": [
    "## 1.3 Query/Analysis <a class=\"anchor\" id=\"task13\"></a>"
   ]
  },
  {
   "cell_type": "code",
   "execution_count": 7,
   "metadata": {},
   "outputs": [],
   "source": [
    "#1.\n",
    "# split dataset by ',' and filter empty string '' first then filter 0 values\n",
    "trip_rdd_2 = trip_rdd.map(lambda x: x.split(',')).\\\n",
    "    filter(lambda x: x[6] != '' and x[7] !='').filter(lambda x: (float(x[6]) and float(x[7])) != 0)"
   ]
  },
  {
   "cell_type": "code",
   "execution_count": 8,
   "metadata": {
    "scrolled": true
   },
   "outputs": [
    {
     "name": "stdout",
     "output_type": "stream",
     "text": [
      " count\n",
      " before: 2318357\n",
      " after: 303227\n"
     ]
    }
   ],
   "source": [
    "print(' count\\n',  f'before: {trip_rdd.count()}\\n', f'after: {trip_rdd_2.count()}')"
   ]
  },
  {
   "cell_type": "code",
   "execution_count": 9,
   "metadata": {},
   "outputs": [],
   "source": [
    "#2.Calculate the average surge rate for each city. (Hint: you can use 'city_id' directly)  \n",
    "# I will use filtered data to calculate average value\n",
    "trip_rdd_3  = trip_rdd_2.map(lambda x: (x[3],float(x[6]))).groupByKey().\\\n",
    "    mapValues(lambda x: sum(x) / len(x))"
   ]
  },
  {
   "cell_type": "code",
   "execution_count": 10,
   "metadata": {},
   "outputs": [
    {
     "data": {
      "text/plain": [
       "[('43020', 0.35608648040726326),\n",
       " ('43116', 0.3373307210031182),\n",
       " ('43050', 0.3573732106339663),\n",
       " ('43278', 0.3154431028591009),\n",
       " ('43006', 0.3478644482858144),\n",
       " ('43179', 0.3401958209850762)]"
      ]
     },
     "execution_count": 10,
     "metadata": {},
     "output_type": "execute_result"
    }
   ],
   "source": [
    "trip_rdd_3.collect()"
   ]
  },
  {
   "cell_type": "code",
   "execution_count": 11,
   "metadata": {},
   "outputs": [],
   "source": [
    "#3. Find the driver id who has the max and min trip distance. Also, print out all other trips they made.\n",
    "\n",
    "# filter the negative value of trip distance\n",
    "trip_rdd_4 = trip_rdd_2.filter(lambda x: float(x[7]) > 0 )\n",
    "\n",
    "#find driver id with max trip distance\n",
    "max_driver_id = trip_rdd_4.max(lambda x: float(x[7]))\n",
    "max_driver_id = max_driver_id[1]\n",
    "#find driver id with mini trip distance\n",
    "min_driver_id = trip_rdd_4.min(lambda x: float(x[7]))  \n",
    "min_driver_id = min_driver_id[1]"
   ]
  },
  {
   "cell_type": "code",
   "execution_count": 12,
   "metadata": {},
   "outputs": [
    {
     "name": "stdout",
     "output_type": "stream",
     "text": [
      "driver id with max trip distance: 6f99c4f8 \n",
      "driver id with mini trip distance: 8f9f5829\n"
     ]
    }
   ],
   "source": [
    "print(f'driver id with max trip distance: {max_driver_id}', f'\\ndriver id with mini trip distance: {min_driver_id}')"
   ]
  },
  {
   "cell_type": "code",
   "execution_count": 13,
   "metadata": {},
   "outputs": [],
   "source": [
    "#print out all other trips they made.\n",
    "\n",
    "max_distance_driver_trips = trip_rdd_4.filter(lambda x: x[1]== max_driver_id)\n",
    "mini_distance_driver_trips = trip_rdd_4.filter(lambda x: x[1]== min_driver_id)\n"
   ]
  },
  {
   "cell_type": "code",
   "execution_count": 14,
   "metadata": {},
   "outputs": [
    {
     "name": "stdout",
     "output_type": "stream",
     "text": [
      "max_distance_driver_trips: \n",
      "\n",
      "['848b2841', '6f99c4f8', 'a254f292', '43179', '7/23/2019 5:57:21 AM', '7/23/2019 9:09:03 AM', '-0.15', '150.94', '234.75']\n",
      "['228612d6', '6f99c4f8', '09188262', '43179', '6/16/2019 9:19:48 AM', '6/16/2019 9:29:09 AM', '-0.1', '2.54', '5.39']\n",
      "['27b31513', '6f99c4f8', '995cba39', '43179', '9/11/2019 2:01:39 AM', '9/11/2019 2:21:58 AM', '-0.25', '6.29', '4.29']\n",
      "['3d1a803a', '6f99c4f8', 'f507ac82', '43179', '8/29/2019 7:27:44 AM', '8/29/2019 7:39:55 AM', '-0.1', '3.68', '8.92']\n",
      "['91252952', '6f99c4f8', 'f1950dcd', '43179', '7/18/2019 11:35:48 AM', '7/18/2019 11:55:30 AM', '-0.2', '8.02', '8.59']\n",
      "['b5ac17d7', '6f99c4f8', '2eeed548', '43179', '5/26/2019 10:36:29 AM', '5/26/2019 10:59:06 AM', '-0.1', '3.93', '12.64']\n",
      "\n",
      "mini_distance_driver_trips \n",
      "\n",
      "['ae8f21d4', '8f9f5829', '38404301', '43179', '5/27/2019 6:38:24 AM', '5/27/2019 6:48:19 AM', '0.6', '0.01', '2.64']\n",
      "['ed8bab5a', '8f9f5829', '19872215', '43179', '6/17/2019 5:46:21 AM', '6/17/2019 6:20:39 AM', '1.5', '3.98', '4.75']\n",
      "['31db6343', '8f9f5829', '34eb8b49', '43179', '5/9/2019 6:39:26 AM', '5/9/2019 7:15:24 AM', '0.3', '11.84', '5.62']\n",
      "['51a97604', '8f9f5829', '5532cc86', '43179', '5/5/2019 11:49:40 AM', '5/5/2019 12:01:46 PM', '0.2', '4.52', '6.41']\n"
     ]
    }
   ],
   "source": [
    "print('max_distance_driver_trips: \\n', *max_distance_driver_trips.collect(),sep='\\n')\n",
    "print('\\nmini_distance_driver_trips \\n', *mini_distance_driver_trips.collect(),sep='\\n')"
   ]
  },
  {
   "cell_type": "markdown",
   "metadata": {},
   "source": [
    "## Part2. Working with DataFrames <a class=\"anchor\" id=\"task2\"></a>\n",
    "\n",
    "### 2.1 Data Preparation and Loading <a class=\"anchor\" id=\"task21\"></a>"
   ]
  },
  {
   "cell_type": "code",
   "execution_count": 15,
   "metadata": {},
   "outputs": [],
   "source": [
    "#1. Load all trips, passenger, and city data into three separate dataframes\n",
    "\n",
    "df_passenger = spark.read.csv(\"data//passenger.csv\",inferSchema=True ,header=True)\n",
    "df_trip = spark.read.csv(\"data//trip.csv\",header=True,inferSchema=True)\n",
    "df_city = spark.read.csv(\"data//city.csv\",header=True,inferSchema=True)"
   ]
  },
  {
   "cell_type": "code",
   "execution_count": 16,
   "metadata": {},
   "outputs": [
    {
     "name": "stdout",
     "output_type": "stream",
     "text": [
      "df_passenger schema:\n",
      "root\n",
      " |-- id: string (nullable = true)\n",
      " |-- first_call_time: string (nullable = true)\n",
      "\n",
      "df_trip schema: \n",
      "root\n",
      " |-- id: string (nullable = true)\n",
      " |-- driver_id: string (nullable = true)\n",
      " |-- passenger_id: string (nullable = true)\n",
      " |-- city_id: integer (nullable = true)\n",
      " |-- call_time: string (nullable = true)\n",
      " |-- finish_time: string (nullable = true)\n",
      " |-- surge_rate: double (nullable = true)\n",
      " |-- trip_distance: double (nullable = true)\n",
      " |-- trip_fare: double (nullable = true)\n",
      "\n",
      "df_city schema: \n",
      "root\n",
      " |-- id: integer (nullable = true)\n",
      " |-- name: string (nullable = true)\n",
      "\n"
     ]
    }
   ],
   "source": [
    "#2. Display the schema of the final three dataframes.\n",
    "print('df_passenger schema:')\n",
    "df_passenger.printSchema()\n",
    "print('df_trip schema: ')\n",
    "df_trip.printSchema()\n",
    "print('df_city schema: ')\n",
    "df_city.printSchema()"
   ]
  },
  {
   "cell_type": "markdown",
   "metadata": {},
   "source": [
    "### 2.2 Query/Analysis <a class=\"anchor\" id=\"task22\"></a>"
   ]
  },
  {
   "cell_type": "code",
   "execution_count": 17,
   "metadata": {},
   "outputs": [
    {
     "name": "stdout",
     "output_type": "stream",
     "text": [
      "+-------+------------+\n",
      "|city_id|        name|\n",
      "+-------+------------+\n",
      "|  42868|      Mordor|\n",
      "|  42948|      Erebor|\n",
      "|  43006|Minas Tirith|\n",
      "|  43020|    Isengard|\n",
      "|  43050|      Gondor|\n",
      "+-------+------------+\n",
      "only showing top 5 rows\n",
      "\n"
     ]
    }
   ],
   "source": [
    "#1. Rename ‘id’ in city DF into ‘city_id’.\n",
    "df_city = df_city.withColumnRenamed('id','city_id')\n",
    "df_city.show(5)"
   ]
  },
  {
   "cell_type": "code",
   "execution_count": 18,
   "metadata": {},
   "outputs": [
    {
     "name": "stdout",
     "output_type": "stream",
     "text": [
      "+------------+--------+---------+------------+--------------------+--------------------+----------+-------------+---------+\n",
      "|        city|      id|driver_id|passenger_id|           call_time|         finish_time|surge_rate|trip_distance|trip_fare|\n",
      "+------------+--------+---------+------------+--------------------+--------------------+----------+-------------+---------+\n",
      "|Minas Tirith|a84c0db2| cb64172e|    2ea4359d|9/8/2019 10:01:28 PM|9/8/2019 10:15:54 PM|       0.3|         1.92|     4.36|\n",
      "|Minas Tirith|a84c2d10| 3034e6fe|    e1bd0c8d| 7/1/2019 8:56:28 PM| 7/1/2019 9:22:09 PM|       0.0|         9.36|     6.91|\n",
      "|      Gondor|a84c3e75| 93fb6802|    75e6d450|8/20/2019 9:30:46 PM|8/20/2019 9:46:48 PM|       0.0|         4.39|     3.48|\n",
      "|    Isengard|a84c3f6f| 25fc9273|    5ba48e89| 9/8/2019 2:42:41 AM| 9/8/2019 2:59:56 AM|       0.0|         2.04|     1.54|\n",
      "|Minas Tirith|a84c5ce2| 484c4d0c|    fdb2ef59|6/10/2019 9:29:18 AM|6/10/2019 9:55:36 AM|       0.0|         7.37|     5.83|\n",
      "+------------+--------+---------+------------+--------------------+--------------------+----------+-------------+---------+\n",
      "only showing top 5 rows\n",
      "\n"
     ]
    }
   ],
   "source": [
    "# 2. Join city DF with trip DF. \n",
    "df_city_inner_trip = df_city.join(df_trip, df_city.city_id == df_trip.city_id ,how='inner')\n",
    "#df_city_inner_trip.show(5)\n",
    "# Delete 'city_id' column and rename 'name' column to 'city' column.\n",
    "df_city_inner_trip = df_city_inner_trip.drop('city_id')\n",
    "df_city_inner_trip = df_city_inner_trip.withColumnRenamed('name','city')\n",
    "df_city_inner_trip.show(5)"
   ]
  },
  {
   "cell_type": "code",
   "execution_count": 19,
   "metadata": {},
   "outputs": [
    {
     "name": "stdout",
     "output_type": "stream",
     "text": [
      "+------------+--------+---------+------------+--------------------+--------------------+----------+-------------+---------+\n",
      "|        city|      id|driver_id|passenger_id|           call_time|         finish_time|surge_rate|trip_distance|trip_fare|\n",
      "+------------+--------+---------+------------+--------------------+--------------------+----------+-------------+---------+\n",
      "|Minas Tirith|a84c0db2| cb64172e|    2ea4359d|9/8/2019 10:01:28 PM|9/8/2019 10:15:54 PM|       0.3|         1.92|     4.36|\n",
      "|Minas Tirith|a84c2d10| 3034e6fe|    e1bd0c8d| 7/1/2019 8:56:28 PM| 7/1/2019 9:22:09 PM|       0.0|         9.36|     6.91|\n",
      "|      Gondor|a84c3e75| 93fb6802|    75e6d450|8/20/2019 9:30:46 PM|8/20/2019 9:46:48 PM|       0.0|         4.39|     3.48|\n",
      "|    Isengard|a84c3f6f| 25fc9273|    5ba48e89| 9/8/2019 2:42:41 AM| 9/8/2019 2:59:56 AM|       0.0|         2.04|     1.54|\n",
      "|Minas Tirith|a84c5ce2| 484c4d0c|    fdb2ef59|6/10/2019 9:29:18 AM|6/10/2019 9:55:36 AM|       0.0|         7.37|     5.83|\n",
      "+------------+--------+---------+------------+--------------------+--------------------+----------+-------------+---------+\n",
      "only showing top 5 rows\n",
      "\n"
     ]
    }
   ],
   "source": [
    "# 3. Use joined DF above in 2.2.2, keep the rows in which trip_distance and trip_fare is \n",
    "#    both larger than 0. Show 5 records after filtering. \n",
    "df_city_inner_trip.filter( (df_city_inner_trip['trip_fare'] > 0) & (df_city_inner_trip['trip_distance'] > 0) ).show(5)"
   ]
  },
  {
   "cell_type": "code",
   "execution_count": 20,
   "metadata": {},
   "outputs": [
    {
     "name": "stdout",
     "output_type": "stream",
     "text": [
      "+--------+---------+------------+-------------+\n",
      "|      id|driver_id|passenger_id|trip_distance|\n",
      "+--------+---------+------------+-------------+\n",
      "|7f4a1ec5| 704642b5|    771e01b2|        296.1|\n",
      "|30bb5f34| 7119b481|    d5e5e5d8|       261.71|\n",
      "|ac1861e1| ceccad76|    2a2f3fc5|       244.82|\n",
      "|4525a2bf| bdb22ca4|    b7f9f488|       236.14|\n",
      "|b60c4614| 70b9733e|    09ec3959|       235.42|\n",
      "+--------+---------+------------+-------------+\n",
      "only showing top 5 rows\n",
      "\n"
     ]
    }
   ],
   "source": [
    "#4. Use the filtered DF above in 2.2.3, show top 5 rows using descending order of trip_distance.\n",
    "#  (‘id’, ‘driver_id’, ‘passenger_id’ and ‘trip_distance’ should be displayed)\n",
    "df_city_inner_trip.sort(df_city_inner_trip.trip_distance.desc()).select(['id','driver_id','passenger_id','trip_distance' ]).show(5)\n"
   ]
  },
  {
   "cell_type": "markdown",
   "metadata": {},
   "source": [
    "### 2.3 Trip Analysis <a class=\"anchor\" id=\"task23\"></a>"
   ]
  },
  {
   "cell_type": "code",
   "execution_count": 21,
   "metadata": {},
   "outputs": [],
   "source": [
    "# function for create On Holiday boolean column \n",
    "def boolean_on_holiday(df, holidays):\n",
    "    #split the timestamp and only grab the first string 9/8/2019 10:01:28 PM => 9/8/2019 \n",
    "    df2=df.withColumn(\"On Holiday\", split(df['call_time'], ' ').getItem(0))\n",
    "    # if the date is in holidays list then return true , else false\n",
    "    df2=df2.withColumn(\"On Holiday\", when(df2['On Holiday'].isin(holidays),'true').otherwise('false'))\n",
    "    \n",
    "    return df2"
   ]
  },
  {
   "cell_type": "code",
   "execution_count": 22,
   "metadata": {
    "scrolled": true
   },
   "outputs": [
    {
     "name": "stdout",
     "output_type": "stream",
     "text": [
      "+------------+--------+---------+------------+--------------------+--------------------+----------+-------------+---------+----------+\n",
      "|        city|      id|driver_id|passenger_id|           call_time|         finish_time|surge_rate|trip_distance|trip_fare|On Holiday|\n",
      "+------------+--------+---------+------------+--------------------+--------------------+----------+-------------+---------+----------+\n",
      "|Minas Tirith|a84c0db2| cb64172e|    2ea4359d|9/8/2019 10:01:28 PM|9/8/2019 10:15:54 PM|       0.3|         1.92|     4.36|     false|\n",
      "|Minas Tirith|a84c2d10| 3034e6fe|    e1bd0c8d| 7/1/2019 8:56:28 PM| 7/1/2019 9:22:09 PM|       0.0|         9.36|     6.91|     false|\n",
      "|      Gondor|a84c3e75| 93fb6802|    75e6d450|8/20/2019 9:30:46 PM|8/20/2019 9:46:48 PM|       0.0|         4.39|     3.48|     false|\n",
      "|    Isengard|a84c3f6f| 25fc9273|    5ba48e89| 9/8/2019 2:42:41 AM| 9/8/2019 2:59:56 AM|       0.0|         2.04|     1.54|     false|\n",
      "|Minas Tirith|a84c5ce2| 484c4d0c|    fdb2ef59|6/10/2019 9:29:18 AM|6/10/2019 9:55:36 AM|       0.0|         7.37|     5.83|     false|\n",
      "+------------+--------+---------+------------+--------------------+--------------------+----------+-------------+---------+----------+\n",
      "only showing top 5 rows\n",
      "\n"
     ]
    }
   ],
   "source": [
    "from pyspark.sql.functions import *\n",
    "#1. Create a new Boolean column named 'On Holiday' to identify whether the trip happened on holiday.\n",
    "holidays = ['1/1/2019', '3/5/2019', '4/19/2019', '4/21/2019', '5/1/2019', '6/20/2019',\n",
    "'9/7/2019', '10/12/2019', '11/2/2019', '11/15/2019', '12/25/2019']\n",
    "\n",
    "on_holidays_df = boolean_on_holiday(df_city_inner_trip, holidays)\n",
    "on_holidays_df.show(5)"
   ]
  },
  {
   "cell_type": "code",
   "execution_count": 23,
   "metadata": {},
   "outputs": [
    {
     "name": "stdout",
     "output_type": "stream",
     "text": [
      "+------------+----------+-----------------+\n",
      "|        city|On Holiday|    avg trip fare|\n",
      "+------------+----------+-----------------+\n",
      "|      Gondor|     false|5.131222128203073|\n",
      "|      Gondor|      true|5.421803155522163|\n",
      "|    Isengard|     false|5.550994994344544|\n",
      "|    Isengard|      true|5.690277565084227|\n",
      "|Minas Tirith|     false|4.969949667768448|\n",
      "|Minas Tirith|      true|5.220921996194936|\n",
      "|   Rivendell|     false|5.669180818214373|\n",
      "|   Rivendell|      true|5.851725862931462|\n",
      "|       Rohan|     false|5.276064985963234|\n",
      "|       Rohan|      true|5.455164385996093|\n",
      "|   The Shire|     false|4.995571570029705|\n",
      "|   The Shire|      true|5.189087501615614|\n",
      "+------------+----------+-----------------+\n",
      "\n"
     ]
    }
   ],
   "source": [
    "#2. Observe whether holidays have any effect on the average trip fare in various cities. \n",
    "# use sql function to select 'city','On Holiday','trip_fare'\n",
    "observe_fare_df = on_holidays_df.select('city','On Holiday','trip_fare')\n",
    "#use groupby function to group values and calculate the mean value which is the average value, then sort by city and on holiday\n",
    "observe_fare_df = observe_fare_df.groupBy('city','On Holiday').mean().sort('city','On Holiday')\\\n",
    "    .withColumnRenamed('avg(trip_fare)','avg trip fare')\n",
    "observe_fare_df.show()"
   ]
  },
  {
   "cell_type": "code",
   "execution_count": 24,
   "metadata": {},
   "outputs": [],
   "source": [
    "# function for create weekday column \n",
    "def weekday(df):\n",
    "    #split the timestamp and only grab the first string 9/8/2019 10:01:28 PM => 9/8/2019 \n",
    "    df2=df.withColumn(\"weekday\", split(df['call_time'], ' ').getItem(0))\n",
    "    # convert to dateformat 9/8/2019 => 9-8-2019\n",
    "    df3 = df2.withColumn(\"weekday\", to_date('weekday', 'M/d/yyyy'))\n",
    "    #convert to weekday\n",
    "    df3 = df3.withColumn(\"weekday\", date_format('weekday', 'E'))\n",
    "    \n",
    "    return df3"
   ]
  },
  {
   "cell_type": "code",
   "execution_count": 25,
   "metadata": {},
   "outputs": [
    {
     "name": "stdout",
     "output_type": "stream",
     "text": [
      "+------------+--------+---------+------------+--------------------+--------------------+----------+-------------+---------+-------+\n",
      "|        city|      id|driver_id|passenger_id|           call_time|         finish_time|surge_rate|trip_distance|trip_fare|weekday|\n",
      "+------------+--------+---------+------------+--------------------+--------------------+----------+-------------+---------+-------+\n",
      "|Minas Tirith|a84c0db2| cb64172e|    2ea4359d|9/8/2019 10:01:28 PM|9/8/2019 10:15:54 PM|       0.3|         1.92|     4.36|    Sun|\n",
      "|Minas Tirith|a84c2d10| 3034e6fe|    e1bd0c8d| 7/1/2019 8:56:28 PM| 7/1/2019 9:22:09 PM|       0.0|         9.36|     6.91|    Mon|\n",
      "|      Gondor|a84c3e75| 93fb6802|    75e6d450|8/20/2019 9:30:46 PM|8/20/2019 9:46:48 PM|       0.0|         4.39|     3.48|    Tue|\n",
      "|    Isengard|a84c3f6f| 25fc9273|    5ba48e89| 9/8/2019 2:42:41 AM| 9/8/2019 2:59:56 AM|       0.0|         2.04|     1.54|    Sun|\n",
      "|Minas Tirith|a84c5ce2| 484c4d0c|    fdb2ef59|6/10/2019 9:29:18 AM|6/10/2019 9:55:36 AM|       0.0|         7.37|     5.83|    Mon|\n",
      "+------------+--------+---------+------------+--------------------+--------------------+----------+-------------+---------+-------+\n",
      "only showing top 5 rows\n",
      "\n"
     ]
    }
   ],
   "source": [
    "#3. Create a new column called 'weekday' which transfers the 'call_time' column to 'MON,'TUE','WED'...\n",
    "weekday_df = weekday(df_city_inner_trip)\n",
    "weekday_df.show(5)\n"
   ]
  },
  {
   "cell_type": "code",
   "execution_count": 26,
   "metadata": {},
   "outputs": [],
   "source": [
    "#count number of weekdays and its percentage\n",
    "def count_percentage(weekday_df):\n",
    "    #create two dataframes, one with count of weekdays, and one with count of total trips of a city\n",
    "    trip_count = weekday_df.select('city', 'weekday')\n",
    "    trip_count = trip_count.groupBy('city', 'weekday').count().sort('city','weekday')\n",
    "    trip_percentage = weekday_df.select('city', 'weekday')\n",
    "    trip_percentage = trip_percentage.groupBy('city').count().sort('city')\n",
    "    trip_percentage = trip_percentage.withColumnRenamed('count','Percentage')\n",
    "    #join on city column\n",
    "    trip_percentage_count = trip_count.join(trip_percentage, trip_count.city == trip_percentage.city ,how='inner')\\\n",
    "    .drop(trip_percentage.city)\\\n",
    "    .sort('city','weekday')\\\n",
    "    .select('city','weekday','count','Percentage')\\\n",
    "    .withColumnRenamed('count','Count')\n",
    "    # count percentage Count/Percentage\n",
    "    trip_percentage_count = trip_percentage_count.withColumn('Percentage',\n",
    "                                                             trip_percentage_count.Count*100/trip_percentage_count.Percentage )\n",
    "    #round to two decimal places\n",
    "    trip_percentage_count= trip_percentage_count.withColumn('Percentage',round(\"Percentage\",2))\n",
    "    return trip_percentage_count"
   ]
  },
  {
   "cell_type": "code",
   "execution_count": 27,
   "metadata": {},
   "outputs": [
    {
     "name": "stdout",
     "output_type": "stream",
     "text": [
      "+--------+-------+-----+----------+\n",
      "|    city|weekday|Count|Percentage|\n",
      "+--------+-------+-----+----------+\n",
      "|  Gondor|    Fri|45623|     14.32|\n",
      "|  Gondor|    Mon|45502|     14.29|\n",
      "|  Gondor|    Sat|51117|     16.05|\n",
      "|  Gondor|    Sun|52755|     16.56|\n",
      "|  Gondor|    Thu|42607|     13.38|\n",
      "|  Gondor|    Tue|39995|     12.56|\n",
      "|  Gondor|    Wed|40900|     12.84|\n",
      "|Isengard|    Fri|49305|      14.6|\n",
      "|Isengard|    Mon|43823|     12.98|\n",
      "|Isengard|    Sat|57867|     17.14|\n",
      "|Isengard|    Sun|55741|     16.51|\n",
      "|Isengard|    Thu|46326|     13.72|\n",
      "|Isengard|    Tue|41060|     12.16|\n",
      "|Isengard|    Wed|43526|     12.89|\n",
      "+--------+-------+-----+----------+\n",
      "only showing top 14 rows\n",
      "\n"
     ]
    }
   ],
   "source": [
    "#4. Compute the total number of the trip number of rows) for each weekday \n",
    "#   in different cities and the percentage for the 7 different weekdays.\n",
    "trip_percentage_count = count_percentage(weekday_df)\n",
    "trip_percentage_count.show(14)"
   ]
  },
  {
   "cell_type": "code",
   "execution_count": 28,
   "metadata": {},
   "outputs": [
    {
     "data": {
      "text/html": [
       "<div>\n",
       "<style scoped>\n",
       "    .dataframe tbody tr th:only-of-type {\n",
       "        vertical-align: middle;\n",
       "    }\n",
       "\n",
       "    .dataframe tbody tr th {\n",
       "        vertical-align: top;\n",
       "    }\n",
       "\n",
       "    .dataframe thead th {\n",
       "        text-align: right;\n",
       "    }\n",
       "</style>\n",
       "<table border=\"1\" class=\"dataframe\">\n",
       "  <thead>\n",
       "    <tr style=\"text-align: right;\">\n",
       "      <th></th>\n",
       "      <th>city</th>\n",
       "      <th>weekday</th>\n",
       "      <th>Percentage</th>\n",
       "    </tr>\n",
       "  </thead>\n",
       "  <tbody>\n",
       "    <tr>\n",
       "      <th>0</th>\n",
       "      <td>Gondor</td>\n",
       "      <td>Fri</td>\n",
       "      <td>14.32</td>\n",
       "    </tr>\n",
       "    <tr>\n",
       "      <th>1</th>\n",
       "      <td>Gondor</td>\n",
       "      <td>Mon</td>\n",
       "      <td>14.29</td>\n",
       "    </tr>\n",
       "    <tr>\n",
       "      <th>2</th>\n",
       "      <td>Gondor</td>\n",
       "      <td>Sat</td>\n",
       "      <td>16.05</td>\n",
       "    </tr>\n",
       "    <tr>\n",
       "      <th>3</th>\n",
       "      <td>Gondor</td>\n",
       "      <td>Sun</td>\n",
       "      <td>16.56</td>\n",
       "    </tr>\n",
       "    <tr>\n",
       "      <th>4</th>\n",
       "      <td>Gondor</td>\n",
       "      <td>Thu</td>\n",
       "      <td>13.38</td>\n",
       "    </tr>\n",
       "  </tbody>\n",
       "</table>\n",
       "</div>"
      ],
      "text/plain": [
       "     city weekday  Percentage\n",
       "0  Gondor     Fri       14.32\n",
       "1  Gondor     Mon       14.29\n",
       "2  Gondor     Sat       16.05\n",
       "3  Gondor     Sun       16.56\n",
       "4  Gondor     Thu       13.38"
      ]
     },
     "execution_count": 28,
     "metadata": {},
     "output_type": "execute_result"
    }
   ],
   "source": [
    "import matplotlib.pyplot as plt\n",
    "#5. Draw a bar chart using ‘city’, ‘weekday’, and ‘Percentage’ \n",
    "\n",
    "# convert to pandas df\n",
    "df = trip_percentage_count.select('city','weekday','Percentage').toPandas()\n",
    "df.head(5)"
   ]
  },
  {
   "cell_type": "code",
   "execution_count": 29,
   "metadata": {},
   "outputs": [
    {
     "name": "stdout",
     "output_type": "stream",
     "text": [
      "Conclusion: In all cities, Sundays and Saturdays tend to have more travel than other weekdays \n"
     ]
    },
    {
     "data": {
      "image/png": "[encoded data removed]",
      "text/plain": [
       "<Figure size 720x720 with 1 Axes>"
      ]
     },
     "metadata": {
      "needs_background": "light"
     },
     "output_type": "display_data"
    }
   ],
   "source": [
    "# plot grouped bar chart \n",
    "df_pivot = pd.pivot_table(\n",
    "\tdf,\n",
    "\tvalues=\"Percentage\",\n",
    "\tindex=\"weekday\",\n",
    "\tcolumns=\"city\",\n",
    ")\n",
    "\n",
    "ax = df_pivot.plot(kind=\"bar\")\n",
    "ax.set_ylabel(\"Percentage\")\n",
    "fig = ax.get_figure()\n",
    "fig.set_size_inches(10, 10)\n",
    "print('Conclusion: In all cities, Sundays and Saturdays tend to have more travel than other weekdays ')\n",
    "plt.show()"
   ]
  },
  {
   "cell_type": "markdown",
   "metadata": {},
   "source": [
    "## Part3. RDDs vs DataFrame vs Spark SQL <a class=\"anchor\" id=\"task3\"></a>"
   ]
  },
  {
   "cell_type": "code",
   "execution_count": 30,
   "metadata": {},
   "outputs": [
    {
     "name": "stdout",
     "output_type": "stream",
     "text": [
      "show id of trip, call time and city name in the output\n",
      "(['a84c0db2', '9/8/2019 10:01:28 PM'], ['Minas Tirith'])\n",
      "(['a84c2d10', '7/1/2019 8:56:28 PM'], ['Minas Tirith'])\n",
      "(['a84c5ce2', '6/10/2019 9:29:18 AM'], ['Minas Tirith'])\n",
      "(['a84ceb22', '6/30/2019 3:09:18 AM'], ['Minas Tirith'])\n",
      "(['a84d29a0', '8/11/2019 9:49:49 PM'], ['Minas Tirith'])\n",
      "RDD query performed in  0.14787817001342773  seconds\n"
     ]
    }
   ],
   "source": [
    "from time import time\n",
    "# Query: Join the trip and city csv based on 'city_id', only keep all the data in 'Minas Tirith' city,\n",
    "# show id of trip, city name, and call time in the output.\n",
    "\n",
    "# RDD:\n",
    "#start counting \n",
    "t0_rdd = time()\n",
    "#read data\n",
    "trip_rdd = sc.textFile('data//trip.csv')\n",
    "city_rdd = sc.textFile('data//city.csv')\n",
    "#Remove header and expand string\n",
    "trip_rdd_header = trip_rdd.first()\n",
    "city_rdd_header = city_rdd.first()\n",
    "trip_rdd = trip_rdd.filter(lambda x : x != trip_rdd_header).map(lambda x : x.split(','))\n",
    "city_rdd = city_rdd.filter(lambda x : x != city_rdd_header).map(lambda x : x.split(','))\n",
    "#format rdd to key value pair\n",
    "trip_rdd = trip_rdd.map(lambda x : (x[3], [x[0] ,x[4]]))\n",
    "city_rdd = city_rdd.map(lambda x : (x[0], [x[1]]))\n",
    "#Join the trip and city csv based on 'city_id'\n",
    "# print(trip_rdd.take(5))\n",
    "# print(city_rdd.take(5))\n",
    "rdd_join = trip_rdd.join(city_rdd)\n",
    "#show id of trip, city name, and call time in the output\n",
    "filter_rdd_join = rdd_join.map(lambda x:x[1]).filter(lambda x:x[1][0] == 'Minas Tirith')\n",
    "tt_rdd = time() - t0_rdd\n",
    "print('show id of trip, call time and city name in the output')\n",
    "print(*filter_rdd_join.take(5),sep='\\n')\n",
    "print (\"RDD query performed in \" , tt_rdd , \" seconds\")"
   ]
  },
  {
   "cell_type": "code",
   "execution_count": 31,
   "metadata": {},
   "outputs": [
    {
     "name": "stdout",
     "output_type": "stream",
     "text": [
      "Dataframe query performed in  1.7288658618927002  seconds\n",
      "+--------+------------+--------------------+\n",
      "|      id|        name|           call_time|\n",
      "+--------+------------+--------------------+\n",
      "|a84c0db2|Minas Tirith|9/8/2019 10:01:28 PM|\n",
      "|a84c2d10|Minas Tirith| 7/1/2019 8:56:28 PM|\n",
      "|a84c5ce2|Minas Tirith|6/10/2019 9:29:18 AM|\n",
      "|a84ceb22|Minas Tirith|6/30/2019 3:09:18 AM|\n",
      "|a84d29a0|Minas Tirith|8/11/2019 9:49:49 PM|\n",
      "+--------+------------+--------------------+\n",
      "only showing top 5 rows\n",
      "\n"
     ]
    }
   ],
   "source": [
    "#Dataframe:\n",
    "#start counting \n",
    "t0_Dataframe = time()\n",
    "#read data\n",
    "trip_Dataframe = spark.read.csv(\"data//trip.csv\",header=True,inferSchema=True)\n",
    "city_Dataframe = spark.read.csv(\"data//city.csv\",header=True,inferSchema=True)\n",
    "#join data on city_id, show id of trip, city name, and call time in the output\n",
    "join_Dataframe = trip_Dataframe.join(city_Dataframe, trip_Dataframe.city_id == city_Dataframe.id ,how='inner').\\\n",
    "    select(trip_Dataframe.id , city_Dataframe.name ,trip_Dataframe.call_time).filter(city_Dataframe.name == 'Minas Tirith')\n",
    "tt_Dataframe = time() - t0_Dataframe\n",
    "print (\"Dataframe query performed in \" ,tt_Dataframe ,\" seconds\")\n",
    "join_Dataframe.show(5)"
   ]
  },
  {
   "cell_type": "code",
   "execution_count": 32,
   "metadata": {},
   "outputs": [
    {
     "name": "stdout",
     "output_type": "stream",
     "text": [
      "Dataframe query performed in  0.48000192642211914  seconds\n"
     ]
    },
    {
     "data": {
      "text/plain": [
       "[Row(id='a84c0db2', name='Minas Tirith', call_time='9/8/2019 10:01:28 PM'),\n",
       " Row(id='a84c2d10', name='Minas Tirith', call_time='7/1/2019 8:56:28 PM'),\n",
       " Row(id='a84c5ce2', name='Minas Tirith', call_time='6/10/2019 9:29:18 AM'),\n",
       " Row(id='a84ceb22', name='Minas Tirith', call_time='6/30/2019 3:09:18 AM'),\n",
       " Row(id='a84d29a0', name='Minas Tirith', call_time='8/11/2019 9:49:49 PM')]"
      ]
     },
     "execution_count": 32,
     "metadata": {},
     "output_type": "execute_result"
    }
   ],
   "source": [
    "#Spark SQL:\n",
    "t0_sql = time()\n",
    "#read data\n",
    "trip_sql = spark.read.csv(\"data//trip.csv\",header=True)\n",
    "city_sql = spark.read.csv(\"data//city.csv\",header=True)\n",
    "trip_sql.createOrReplaceTempView(\"trip_sql\")\n",
    "city_sql.createOrReplaceTempView(\"city_sql\")\n",
    "df_sql = spark.sql('''\n",
    "  SELECT \n",
    "      trip_sql.id,\n",
    "      city_sql.name,\n",
    "      trip_sql.call_time\n",
    "  FROM trip_sql\n",
    "  JOIN city_sql ON trip_sql.city_id = city_sql.id\n",
    "  WHERE city_sql.name = 'Minas Tirith';\n",
    "''')\n",
    "tt_sql = time() - t0_sql\n",
    "print (\"Dataframe query performed in \" , tt_sql , \" seconds\")\n",
    "df_sql.take(5)"
   ]
  },
  {
   "cell_type": "code",
   "execution_count": 33,
   "metadata": {},
   "outputs": [
    {
     "name": "stdout",
     "output_type": "stream",
     "text": [
      "Query time taken, SparkSQL: 0.48000192642211914, Spark dataframe:1.7288658618927002, Spark RDD 0.14787817001342773\n"
     ]
    }
   ],
   "source": [
    "print(f'Query time taken, SparkSQL: {tt_sql}, Spark dataframe:{tt_Dataframe}, Spark RDD {tt_rdd}')"
   ]
  },
  {
   "cell_type": "markdown",
   "metadata": {},
   "source": [
    "Speak of running speed, Spark RDD is fastest, Spark dataframe is slowest and it is much slower than other two options\n",
    "\n",
    "But RDD need to define the dataset or schema by myself, dataframe and SQL can be done by the in-built functions and both of them are easy \n",
    "\n",
    "to write with a faster aggregation and groupby"
   ]
  },
  {
   "cell_type": "code",
   "execution_count": 34,
   "metadata": {},
   "outputs": [
    {
     "name": "stdout",
     "output_type": "stream",
     "text": [
      "CPU times: user 10.2 ms, sys: 3.78 ms, total: 14 ms\n",
      "Wall time: 36.5 ms\n"
     ]
    },
    {
     "data": {
      "text/plain": [
       "PythonRDD[238] at RDD at PythonRDD.scala:53"
      ]
     },
     "execution_count": 34,
     "metadata": {},
     "output_type": "execute_result"
    }
   ],
   "source": [
    "%%time\n",
    "filter_rdd_join.groupByKey()"
   ]
  },
  {
   "cell_type": "code",
   "execution_count": 35,
   "metadata": {},
   "outputs": [
    {
     "name": "stdout",
     "output_type": "stream",
     "text": [
      "CPU times: user 1.62 ms, sys: 1.1 ms, total: 2.72 ms\n",
      "Wall time: 10.2 ms\n"
     ]
    },
    {
     "data": {
      "text/plain": [
       "<pyspark.sql.group.GroupedData at 0x7f53f8ab61f0>"
      ]
     },
     "execution_count": 35,
     "metadata": {},
     "output_type": "execute_result"
    }
   ],
   "source": [
    "%%time\n",
    "join_Dataframe.groupBy('name')"
   ]
  }
 ],
 "metadata": {
  "kernelspec": {
   "display_name": "Python 3",
   "language": "python",
   "name": "python3"
  },
  "language_info": {
   "codemirror_mode": {
    "name": "ipython",
    "version": 3
   },
   "file_extension": ".py",
   "mimetype": "text/x-python",
   "name": "python",
   "nbconvert_exporter": "python",
   "pygments_lexer": "ipython3",
   "version": "3.8.8"
  }
 },
 "nbformat": 4,
 "nbformat_minor": 4
}
